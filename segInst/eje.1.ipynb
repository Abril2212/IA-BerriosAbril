{
  "nbformat": 4,
  "nbformat_minor": 0,
  "metadata": {
    "colab": {
      "name": "$edddcfXd",
      "provenance": []
    },
    "kernelspec": {
      "name": "python3",
      "display_name": "Python 3"
    },
    "language_info": {
      "name": "python"
    }
  },
  "cells": [
    {
      "cell_type": "code",
      "execution_count": null,
      "metadata": {
        "colab": {
          "base_uri": "https://localhost:8080/",
          "height": 17
        },
        "id": "l4r95hUVvnAm",
        "outputId": "81cffb59-90c9-4ab7-a390-58f3a5eba6a5"
      },
      "outputs": [
        {
          "output_type": "display_data",
          "data": {
            "text/html": [
              "        <script type=\"text/javascript\">\n",
              "        window.PlotlyConfig = {MathJaxConfig: 'local'};\n",
              "        if (window.MathJax) {MathJax.Hub.Config({SVG: {font: \"STIX-Web\"}});}\n",
              "        if (typeof require !== 'undefined') {\n",
              "        require.undef(\"plotly\");\n",
              "        requirejs.config({\n",
              "            paths: {\n",
              "                'plotly': ['https://cdn.plot.ly/plotly-2.8.3.min']\n",
              "            }\n",
              "        });\n",
              "        require(['plotly'], function(Plotly) {\n",
              "            window._Plotly = Plotly;\n",
              "        });\n",
              "        }\n",
              "        </script>\n",
              "        "
            ]
          },
          "metadata": {}
        }
      ],
      "source": [
        "import pandas as pd\n",
        "from matplotlib import pyplot as plt\n",
        "from sklearn.preprocessing import StandardScaler, MinMaxScaler\n",
        "from sklearn.metrics import mean_squared_error\n",
        "from tensorflow.keras.models import Sequential\n",
        "from tensorflow.keras.layers import Dense\n",
        "from tensorflow.keras.layers import LSTM \n",
        "import tensorflow as tf\n",
        "import math\n",
        "from sklearn.metrics import mean_squared_error\n",
        "import numpy as np\n",
        "import plotly.graph_objs as go\n",
        "from plotly.offline import init_notebook_mode, iplot, plot\n",
        "init_notebook_mode(connected='true')\n",
        "import os"
      ]
    },
    {
      "cell_type": "code",
      "source": [
        "from google.colab import drive\n",
        "drive.mount('/content/drive')"
      ],
      "metadata": {
        "colab": {
          "base_uri": "https://localhost:8080/"
        },
        "id": "sxWa3-Rgxlwd",
        "outputId": "877358ee-e806-466f-e0c1-29021a240664"
      },
      "execution_count": null,
      "outputs": [
        {
          "output_type": "stream",
          "name": "stdout",
          "text": [
            "Drive already mounted at /content/drive; to attempt to forcibly remount, call drive.mount(\"/content/drive\", force_remount=True).\n"
          ]
        }
      ]
    },
    {
      "cell_type": "code",
      "source": [
        "full = pd.read_csv('/content/drive/MyDrive/bolivia_covid19_daily.csv', parse_dates = True, index_col = 0)\n",
        "elec = pd.DataFrame(full.pop('active'))\n",
        "region = pd.DataFrame(full.pop('region'))\n",
        "full = full.join(elec)\n",
        "\n"
      ],
      "metadata": {
        "id": "Pfcj_OWlvoG2"
      },
      "execution_count": null,
      "outputs": []
    },
    {
      "cell_type": "code",
      "source": [
        "full.head()"
      ],
      "metadata": {
        "colab": {
          "base_uri": "https://localhost:8080/",
          "height": 237
        },
        "id": "9uE9SYfT0mS2",
        "outputId": "1966f49f-cb76-4aaf-8b25-46d46b190da3"
      },
      "execution_count": null,
      "outputs": [
        {
          "output_type": "execute_result",
          "data": {
            "text/html": [
              "\n",
              "  <div id=\"df-2df3580d-402f-4548-bf99-a111ef445a0c\">\n",
              "    <div class=\"colab-df-container\">\n",
              "      <div>\n",
              "<style scoped>\n",
              "    .dataframe tbody tr th:only-of-type {\n",
              "        vertical-align: middle;\n",
              "    }\n",
              "\n",
              "    .dataframe tbody tr th {\n",
              "        vertical-align: top;\n",
              "    }\n",
              "\n",
              "    .dataframe thead th {\n",
              "        text-align: right;\n",
              "    }\n",
              "</style>\n",
              "<table border=\"1\" class=\"dataframe\">\n",
              "  <thead>\n",
              "    <tr style=\"text-align: right;\">\n",
              "      <th></th>\n",
              "      <th>cases</th>\n",
              "      <th>recovered</th>\n",
              "      <th>deceased</th>\n",
              "      <th>population</th>\n",
              "      <th>active_per_10k</th>\n",
              "      <th>deceased_per_million</th>\n",
              "      <th>suceptible</th>\n",
              "      <th>removed</th>\n",
              "      <th>active</th>\n",
              "    </tr>\n",
              "    <tr>\n",
              "      <th>date</th>\n",
              "      <th></th>\n",
              "      <th></th>\n",
              "      <th></th>\n",
              "      <th></th>\n",
              "      <th></th>\n",
              "      <th></th>\n",
              "      <th></th>\n",
              "      <th></th>\n",
              "      <th></th>\n",
              "    </tr>\n",
              "  </thead>\n",
              "  <tbody>\n",
              "    <tr>\n",
              "      <th>2020-03-21</th>\n",
              "      <td>2</td>\n",
              "      <td>0</td>\n",
              "      <td>0</td>\n",
              "      <td>2028639</td>\n",
              "      <td>0.009859</td>\n",
              "      <td>0.0</td>\n",
              "      <td>2028637</td>\n",
              "      <td>0</td>\n",
              "      <td>2</td>\n",
              "    </tr>\n",
              "    <tr>\n",
              "      <th>2020-03-22</th>\n",
              "      <td>3</td>\n",
              "      <td>0</td>\n",
              "      <td>0</td>\n",
              "      <td>2028639</td>\n",
              "      <td>0.014788</td>\n",
              "      <td>0.0</td>\n",
              "      <td>2028636</td>\n",
              "      <td>0</td>\n",
              "      <td>3</td>\n",
              "    </tr>\n",
              "    <tr>\n",
              "      <th>2020-03-23</th>\n",
              "      <td>3</td>\n",
              "      <td>0</td>\n",
              "      <td>0</td>\n",
              "      <td>2028639</td>\n",
              "      <td>0.014788</td>\n",
              "      <td>0.0</td>\n",
              "      <td>2028636</td>\n",
              "      <td>0</td>\n",
              "      <td>3</td>\n",
              "    </tr>\n",
              "    <tr>\n",
              "      <th>2020-03-24</th>\n",
              "      <td>3</td>\n",
              "      <td>0</td>\n",
              "      <td>0</td>\n",
              "      <td>2028639</td>\n",
              "      <td>0.014788</td>\n",
              "      <td>0.0</td>\n",
              "      <td>2028636</td>\n",
              "      <td>0</td>\n",
              "      <td>3</td>\n",
              "    </tr>\n",
              "    <tr>\n",
              "      <th>2020-03-25</th>\n",
              "      <td>3</td>\n",
              "      <td>0</td>\n",
              "      <td>0</td>\n",
              "      <td>2028639</td>\n",
              "      <td>0.014788</td>\n",
              "      <td>0.0</td>\n",
              "      <td>2028636</td>\n",
              "      <td>0</td>\n",
              "      <td>3</td>\n",
              "    </tr>\n",
              "  </tbody>\n",
              "</table>\n",
              "</div>\n",
              "      <button class=\"colab-df-convert\" onclick=\"convertToInteractive('df-2df3580d-402f-4548-bf99-a111ef445a0c')\"\n",
              "              title=\"Convert this dataframe to an interactive table.\"\n",
              "              style=\"display:none;\">\n",
              "        \n",
              "  <svg xmlns=\"http://www.w3.org/2000/svg\" height=\"24px\"viewBox=\"0 0 24 24\"\n",
              "       width=\"24px\">\n",
              "    <path d=\"M0 0h24v24H0V0z\" fill=\"none\"/>\n",
              "    <path d=\"M18.56 5.44l.94 2.06.94-2.06 2.06-.94-2.06-.94-.94-2.06-.94 2.06-2.06.94zm-11 1L8.5 8.5l.94-2.06 2.06-.94-2.06-.94L8.5 2.5l-.94 2.06-2.06.94zm10 10l.94 2.06.94-2.06 2.06-.94-2.06-.94-.94-2.06-.94 2.06-2.06.94z\"/><path d=\"M17.41 7.96l-1.37-1.37c-.4-.4-.92-.59-1.43-.59-.52 0-1.04.2-1.43.59L10.3 9.45l-7.72 7.72c-.78.78-.78 2.05 0 2.83L4 21.41c.39.39.9.59 1.41.59.51 0 1.02-.2 1.41-.59l7.78-7.78 2.81-2.81c.8-.78.8-2.07 0-2.86zM5.41 20L4 18.59l7.72-7.72 1.47 1.35L5.41 20z\"/>\n",
              "  </svg>\n",
              "      </button>\n",
              "      \n",
              "  <style>\n",
              "    .colab-df-container {\n",
              "      display:flex;\n",
              "      flex-wrap:wrap;\n",
              "      gap: 12px;\n",
              "    }\n",
              "\n",
              "    .colab-df-convert {\n",
              "      background-color: #E8F0FE;\n",
              "      border: none;\n",
              "      border-radius: 50%;\n",
              "      cursor: pointer;\n",
              "      display: none;\n",
              "      fill: #1967D2;\n",
              "      height: 32px;\n",
              "      padding: 0 0 0 0;\n",
              "      width: 32px;\n",
              "    }\n",
              "\n",
              "    .colab-df-convert:hover {\n",
              "      background-color: #E2EBFA;\n",
              "      box-shadow: 0px 1px 2px rgba(60, 64, 67, 0.3), 0px 1px 3px 1px rgba(60, 64, 67, 0.15);\n",
              "      fill: #174EA6;\n",
              "    }\n",
              "\n",
              "    [theme=dark] .colab-df-convert {\n",
              "      background-color: #3B4455;\n",
              "      fill: #D2E3FC;\n",
              "    }\n",
              "\n",
              "    [theme=dark] .colab-df-convert:hover {\n",
              "      background-color: #434B5C;\n",
              "      box-shadow: 0px 1px 3px 1px rgba(0, 0, 0, 0.15);\n",
              "      filter: drop-shadow(0px 1px 2px rgba(0, 0, 0, 0.3));\n",
              "      fill: #FFFFFF;\n",
              "    }\n",
              "  </style>\n",
              "\n",
              "      <script>\n",
              "        const buttonEl =\n",
              "          document.querySelector('#df-2df3580d-402f-4548-bf99-a111ef445a0c button.colab-df-convert');\n",
              "        buttonEl.style.display =\n",
              "          google.colab.kernel.accessAllowed ? 'block' : 'none';\n",
              "\n",
              "        async function convertToInteractive(key) {\n",
              "          const element = document.querySelector('#df-2df3580d-402f-4548-bf99-a111ef445a0c');\n",
              "          const dataTable =\n",
              "            await google.colab.kernel.invokeFunction('convertToInteractive',\n",
              "                                                     [key], {});\n",
              "          if (!dataTable) return;\n",
              "\n",
              "          const docLinkHtml = 'Like what you see? Visit the ' +\n",
              "            '<a target=\"_blank\" href=https://colab.research.google.com/notebooks/data_table.ipynb>data table notebook</a>'\n",
              "            + ' to learn more about interactive tables.';\n",
              "          element.innerHTML = '';\n",
              "          dataTable['output_type'] = 'display_data';\n",
              "          await google.colab.output.renderOutput(dataTable, element);\n",
              "          const docLink = document.createElement('div');\n",
              "          docLink.innerHTML = docLinkHtml;\n",
              "          element.appendChild(docLink);\n",
              "        }\n",
              "      </script>\n",
              "    </div>\n",
              "  </div>\n",
              "  "
            ],
            "text/plain": [
              "            cases  recovered  deceased  ...  suceptible  removed  active\n",
              "date                                    ...                             \n",
              "2020-03-21      2          0         0  ...     2028637        0       2\n",
              "2020-03-22      3          0         0  ...     2028636        0       3\n",
              "2020-03-23      3          0         0  ...     2028636        0       3\n",
              "2020-03-24      3          0         0  ...     2028636        0       3\n",
              "2020-03-25      3          0         0  ...     2028636        0       3\n",
              "\n",
              "[5 rows x 9 columns]"
            ]
          },
          "metadata": {},
          "execution_count": 567
        }
      ]
    },
    {
      "cell_type": "code",
      "source": [
        "plt.style.use('ggplot')\n",
        "full['active'].plot(title='Casos activos', figsize=(20,10));"
      ],
      "metadata": {
        "colab": {
          "base_uri": "https://localhost:8080/",
          "height": 627
        },
        "id": "CsU-uSb8aNB0",
        "outputId": "d97bd146-884f-4e57-d0b5-b3b9a85e8e6c"
      },
      "execution_count": null,
      "outputs": [
        {
          "output_type": "display_data",
          "data": {
            "image/png": "[encoded data removed]",
            "text/plain": [
              "<Figure size 1440x720 with 1 Axes>"
            ]
          },
          "metadata": {}
        }
      ]
    },
    {
      "cell_type": "code",
      "source": [
        "full1=full.reset_index()['active']\n",
        "full1\n"
      ],
      "metadata": {
        "colab": {
          "base_uri": "https://localhost:8080/"
        },
        "id": "_PfDuQocTy5_",
        "outputId": "3870a28c-b5da-4558-fed4-28cc0baa853f"
      },
      "execution_count": null,
      "outputs": [
        {
          "output_type": "execute_result",
          "data": {
            "text/plain": [
              "0         2\n",
              "1         3\n",
              "2         3\n",
              "3         3\n",
              "4         3\n",
              "       ... \n",
              "117    4715\n",
              "118    4606\n",
              "119    4749\n",
              "120    4697\n",
              "121    4708\n",
              "Name: active, Length: 122, dtype: int64"
            ]
          },
          "metadata": {},
          "execution_count": 569
        }
      ]
    },
    {
      "cell_type": "code",
      "source": [
        "plt.style.use('ggplot')\n",
        "full1.plot(title='Casos activos', figsize=(20,10));"
      ],
      "metadata": {
        "colab": {
          "base_uri": "https://localhost:8080/",
          "height": 600
        },
        "id": "QAoo4bZHT97m",
        "outputId": "de7859f2-f34d-4674-aed7-77ab76831747"
      },
      "execution_count": null,
      "outputs": [
        {
          "output_type": "display_data",
          "data": {
            "image/png": "[encoded data removed]",
            "text/plain": [
              "<Figure size 1440x720 with 1 Axes>"
            ]
          },
          "metadata": {}
        }
      ]
    },
    {
      "cell_type": "code",
      "source": [
        "scaler=MinMaxScaler(feature_range=(0,1))\n",
        "full1=scaler.fit_transform(np.array(full1).reshape(-1,1))\n",
        "print(full1)"
      ],
      "metadata": {
        "colab": {
          "base_uri": "https://localhost:8080/"
        },
        "id": "O0g9c3Y5Ug5q",
        "outputId": "e5c502cd-5240-4f5e-bf0c-b11a1bafe7ba"
      },
      "execution_count": null,
      "outputs": [
        {
          "output_type": "stream",
          "name": "stdout",
          "text": [
            "[[0.00000000e+00]\n",
            " [2.10659364e-04]\n",
            " [2.10659364e-04]\n",
            " [2.10659364e-04]\n",
            " [2.10659364e-04]\n",
            " [1.68527491e-03]\n",
            " [2.52791237e-03]\n",
            " [2.52791237e-03]\n",
            " [3.37054982e-03]\n",
            " [3.79186855e-03]\n",
            " [3.79186855e-03]\n",
            " [4.00252791e-03]\n",
            " [4.21318728e-03]\n",
            " [4.63450600e-03]\n",
            " [4.84516537e-03]\n",
            " [6.31978091e-03]\n",
            " [6.10912155e-03]\n",
            " [7.16241837e-03]\n",
            " [9.05835264e-03]\n",
            " [9.26901201e-03]\n",
            " [9.26901201e-03]\n",
            " [9.05835264e-03]\n",
            " [9.69033074e-03]\n",
            " [1.01116495e-02]\n",
            " [1.07436276e-02]\n",
            " [1.11649463e-02]\n",
            " [9.69033074e-03]\n",
            " [9.90099010e-03]\n",
            " [9.90099010e-03]\n",
            " [9.90099010e-03]\n",
            " [8.42637455e-03]\n",
            " [8.63703392e-03]\n",
            " [8.84769328e-03]\n",
            " [9.47967137e-03]\n",
            " [1.03223088e-02]\n",
            " [1.05329682e-02]\n",
            " [1.20075837e-02]\n",
            " [1.01116495e-02]\n",
            " [1.03223088e-02]\n",
            " [1.05329682e-02]\n",
            " [1.05329682e-02]\n",
            " [9.90099010e-03]\n",
            " [1.01116495e-02]\n",
            " [1.01116495e-02]\n",
            " [1.03223088e-02]\n",
            " [8.63703392e-03]\n",
            " [8.63703392e-03]\n",
            " [8.63703392e-03]\n",
            " [8.84769328e-03]\n",
            " [9.90099010e-03]\n",
            " [1.17969244e-02]\n",
            " [1.17969244e-02]\n",
            " [1.60101116e-02]\n",
            " [1.95913208e-02]\n",
            " [2.42258268e-02]\n",
            " [2.84390141e-02]\n",
            " [3.22308827e-02]\n",
            " [3.43374763e-02]\n",
            " [3.49694544e-02]\n",
            " [3.74973668e-02]\n",
            " [4.02359385e-02]\n",
            " [4.17105540e-02]\n",
            " [4.57130819e-02]\n",
            " [4.73983569e-02]\n",
            " [5.45607752e-02]\n",
            " [5.56140720e-02]\n",
            " [5.58247314e-02]\n",
            " [6.23551717e-02]\n",
            " [7.12028650e-02]\n",
            " [8.53170423e-02]\n",
            " [9.92205604e-02]\n",
            " [1.10806825e-01]\n",
            " [1.30187487e-01]\n",
            " [1.43459027e-01]\n",
            " [1.55887929e-01]\n",
            " [1.63471666e-01]\n",
            " [1.76111228e-01]\n",
            " [1.88961449e-01]\n",
            " [2.04760902e-01]\n",
            " [2.04760902e-01]\n",
            " [2.31935960e-01]\n",
            " [2.45839478e-01]\n",
            " [2.59321677e-01]\n",
            " [2.73225195e-01]\n",
            " [2.91552560e-01]\n",
            " [3.30103223e-01]\n",
            " [3.61280809e-01]\n",
            " [3.68021909e-01]\n",
            " [3.92669054e-01]\n",
            " [4.20054771e-01]\n",
            " [4.44069939e-01]\n",
            " [4.55656204e-01]\n",
            " [4.94628186e-01]\n",
            " [5.06003792e-01]\n",
            " [5.37813356e-01]\n",
            " [5.66252370e-01]\n",
            " [5.71940173e-01]\n",
            " [6.25236992e-01]\n",
            " [6.58521171e-01]\n",
            " [6.66315568e-01]\n",
            " [6.66104908e-01]\n",
            " [6.91594691e-01]\n",
            " [7.06340847e-01]\n",
            " [7.19612387e-01]\n",
            " [7.64482831e-01]\n",
            " [7.67010744e-01]\n",
            " [7.66378766e-01]\n",
            " [8.07668001e-01]\n",
            " [8.12513166e-01]\n",
            " [8.36528334e-01]\n",
            " [8.55487676e-01]\n",
            " [8.75710975e-01]\n",
            " [8.84979987e-01]\n",
            " [9.05203286e-01]\n",
            " [9.15104276e-01]\n",
            " [9.35116916e-01]\n",
            " [9.73456920e-01]\n",
            " [9.92837582e-01]\n",
            " [9.69875711e-01]\n",
            " [1.00000000e+00]\n",
            " [9.89045713e-01]\n",
            " [9.91362966e-01]]\n"
          ]
        }
      ]
    },
    {
      "cell_type": "code",
      "source": [
        "training_size=int(len(full1)*0.65)\n",
        "test_size=len(full1)-training_size\n",
        "train_data,test_data=full1[0:training_size,:],full1[training_size:len(full1),:1]"
      ],
      "metadata": {
        "id": "3RKYA-CpUte4"
      },
      "execution_count": null,
      "outputs": []
    },
    {
      "cell_type": "code",
      "source": [
        "training_size,test_size"
      ],
      "metadata": {
        "colab": {
          "base_uri": "https://localhost:8080/"
        },
        "id": "kC1RekqRVG7E",
        "outputId": "2da19ca4-544f-4d3d-a13d-ee7722999726"
      },
      "execution_count": null,
      "outputs": [
        {
          "output_type": "execute_result",
          "data": {
            "text/plain": [
              "(79, 43)"
            ]
          },
          "metadata": {},
          "execution_count": 573
        }
      ]
    },
    {
      "cell_type": "code",
      "source": [
        "def create_dataset(dataset, time_step=1):\n",
        "\tdataX, dataY = [], []\n",
        "\tfor i in range(len(dataset)-time_step-1):\n",
        "\t\ta = dataset[i:(i+time_step), 0]   ###i=0, 0,1,2,3-----99   100 \n",
        "\t\tdataX.append(a)\n",
        "\t\tdataY.append(dataset[i + time_step, 0])\n",
        "\treturn np.array(dataX), np.array(dataY)"
      ],
      "metadata": {
        "id": "HwyRIi4IVgyE"
      },
      "execution_count": null,
      "outputs": []
    },
    {
      "cell_type": "code",
      "source": [
        "time_step = 36\n",
        "X_train, y_train = create_dataset(train_data, time_step)\n",
        "X_test, ytest = create_dataset(test_data, time_step)\n",
        "print(X_train.shape), print(y_train.shape)\n"
      ],
      "metadata": {
        "colab": {
          "base_uri": "https://localhost:8080/"
        },
        "id": "IVF0qGGhVq1j",
        "outputId": "39e90466-e1a2-476b-e80e-f15da3db7d4a"
      },
      "execution_count": null,
      "outputs": [
        {
          "output_type": "stream",
          "name": "stdout",
          "text": [
            "(42, 36)\n",
            "(42,)\n"
          ]
        },
        {
          "output_type": "execute_result",
          "data": {
            "text/plain": [
              "(None, None)"
            ]
          },
          "metadata": {},
          "execution_count": 721
        }
      ]
    },
    {
      "cell_type": "code",
      "source": [
        "print(X_test.shape), print(ytest.shape)"
      ],
      "metadata": {
        "colab": {
          "base_uri": "https://localhost:8080/"
        },
        "id": "iRyrSlQYJEYr",
        "outputId": "a77eea34-38ba-4e88-9e67-caab3ab70b72"
      },
      "execution_count": null,
      "outputs": [
        {
          "output_type": "stream",
          "name": "stdout",
          "text": [
            "(6, 36)\n",
            "(6,)\n"
          ]
        },
        {
          "output_type": "execute_result",
          "data": {
            "text/plain": [
              "(None, None)"
            ]
          },
          "metadata": {},
          "execution_count": 722
        }
      ]
    },
    {
      "cell_type": "code",
      "source": [
        "X_train =X_train.reshape(X_train.shape[0],X_train.shape[1] , 1)\n",
        "X_test = X_test.reshape(X_test.shape[0],X_test.shape[1] , 1)"
      ],
      "metadata": {
        "id": "8L_w-pslWVph"
      },
      "execution_count": null,
      "outputs": []
    },
    {
      "cell_type": "code",
      "source": [
        "model=Sequential()\n",
        "model.add(LSTM(10,return_sequences=True,input_shape=(36,1)))\n",
        "model.add(LSTM(10,return_sequences=True))\n",
        "model.add(LSTM(10))\n",
        "model.add(Dense(1))\n",
        "model.compile(loss='mean_squared_error',optimizer='adam')"
      ],
      "metadata": {
        "id": "0flTj33UWe96"
      },
      "execution_count": null,
      "outputs": []
    },
    {
      "cell_type": "code",
      "source": [
        "model.summary()"
      ],
      "metadata": {
        "colab": {
          "base_uri": "https://localhost:8080/"
        },
        "id": "QSxjlc32W8HJ",
        "outputId": "0a1d034d-962b-4b3e-ee11-7f6f3f3fe5f1"
      },
      "execution_count": null,
      "outputs": [
        {
          "output_type": "stream",
          "name": "stdout",
          "text": [
            "Model: \"sequential_25\"\n",
            "_________________________________________________________________\n",
            " Layer (type)                Output Shape              Param #   \n",
            "=================================================================\n",
            " lstm_75 (LSTM)              (None, 36, 10)            480       \n",
            "                                                                 \n",
            " lstm_76 (LSTM)              (None, 36, 10)            840       \n",
            "                                                                 \n",
            " lstm_77 (LSTM)              (None, 10)                840       \n",
            "                                                                 \n",
            " dense_25 (Dense)            (None, 1)                 11        \n",
            "                                                                 \n",
            "=================================================================\n",
            "Total params: 2,171\n",
            "Trainable params: 2,171\n",
            "Non-trainable params: 0\n",
            "_________________________________________________________________\n"
          ]
        }
      ]
    },
    {
      "cell_type": "code",
      "source": [
        "model.summary()"
      ],
      "metadata": {
        "colab": {
          "base_uri": "https://localhost:8080/"
        },
        "id": "7ZYBkwfaXCqL",
        "outputId": "353e076d-4262-4bce-dff9-d66087c2a510"
      },
      "execution_count": null,
      "outputs": [
        {
          "output_type": "stream",
          "name": "stdout",
          "text": [
            "Model: \"sequential_25\"\n",
            "_________________________________________________________________\n",
            " Layer (type)                Output Shape              Param #   \n",
            "=================================================================\n",
            " lstm_75 (LSTM)              (None, 36, 10)            480       \n",
            "                                                                 \n",
            " lstm_76 (LSTM)              (None, 36, 10)            840       \n",
            "                                                                 \n",
            " lstm_77 (LSTM)              (None, 10)                840       \n",
            "                                                                 \n",
            " dense_25 (Dense)            (None, 1)                 11        \n",
            "                                                                 \n",
            "=================================================================\n",
            "Total params: 2,171\n",
            "Trainable params: 2,171\n",
            "Non-trainable params: 0\n",
            "_________________________________________________________________\n"
          ]
        }
      ]
    },
    {
      "cell_type": "code",
      "source": [
        "model.fit(X_train,y_train,validation_data=(X_test,ytest),epochs=100,batch_size=64,verbose=1)"
      ],
      "metadata": {
        "colab": {
          "base_uri": "https://localhost:8080/"
        },
        "id": "-g2y4F5gXDmZ",
        "outputId": "46216a93-8e10-4132-c5da-e118269557dc"
      },
      "execution_count": null,
      "outputs": [
        {
          "output_type": "stream",
          "name": "stdout",
          "text": [
            "Epoch 1/100\n",
            "1/1 [==============================] - 9s 9s/step - loss: 0.0041 - val_loss: 0.6053\n",
            "Epoch 2/100\n",
            "1/1 [==============================] - 0s 77ms/step - loss: 0.0035 - val_loss: 0.5759\n",
            "Epoch 3/100\n",
            "1/1 [==============================] - 0s 75ms/step - loss: 0.0029 - val_loss: 0.5463\n",
            "Epoch 4/100\n",
            "1/1 [==============================] - 0s 86ms/step - loss: 0.0025 - val_loss: 0.5165\n",
            "Epoch 5/100\n",
            "1/1 [==============================] - 0s 79ms/step - loss: 0.0022 - val_loss: 0.4872\n",
            "Epoch 6/100\n",
            "1/1 [==============================] - 0s 81ms/step - loss: 0.0020 - val_loss: 0.4590\n",
            "Epoch 7/100\n",
            "1/1 [==============================] - 0s 90ms/step - loss: 0.0020 - val_loss: 0.4336\n",
            "Epoch 8/100\n",
            "1/1 [==============================] - 0s 99ms/step - loss: 0.0021 - val_loss: 0.4129\n",
            "Epoch 9/100\n",
            "1/1 [==============================] - 0s 93ms/step - loss: 0.0022 - val_loss: 0.3983\n",
            "Epoch 10/100\n",
            "1/1 [==============================] - 0s 83ms/step - loss: 0.0023 - val_loss: 0.3894\n",
            "Epoch 11/100\n",
            "1/1 [==============================] - 0s 87ms/step - loss: 0.0023 - val_loss: 0.3851\n",
            "Epoch 12/100\n",
            "1/1 [==============================] - 0s 106ms/step - loss: 0.0022 - val_loss: 0.3839\n",
            "Epoch 13/100\n",
            "1/1 [==============================] - 0s 98ms/step - loss: 0.0021 - val_loss: 0.3847\n",
            "Epoch 14/100\n",
            "1/1 [==============================] - 0s 94ms/step - loss: 0.0020 - val_loss: 0.3863\n",
            "Epoch 15/100\n",
            "1/1 [==============================] - 0s 97ms/step - loss: 0.0019 - val_loss: 0.3875\n",
            "Epoch 16/100\n",
            "1/1 [==============================] - 0s 88ms/step - loss: 0.0019 - val_loss: 0.3876\n",
            "Epoch 17/100\n",
            "1/1 [==============================] - 0s 104ms/step - loss: 0.0018 - val_loss: 0.3859\n",
            "Epoch 18/100\n",
            "1/1 [==============================] - 0s 90ms/step - loss: 0.0018 - val_loss: 0.3820\n",
            "Epoch 19/100\n",
            "1/1 [==============================] - 0s 84ms/step - loss: 0.0018 - val_loss: 0.3755\n",
            "Epoch 20/100\n",
            "1/1 [==============================] - 0s 90ms/step - loss: 0.0018 - val_loss: 0.3665\n",
            "Epoch 21/100\n",
            "1/1 [==============================] - 0s 87ms/step - loss: 0.0018 - val_loss: 0.3550\n",
            "Epoch 22/100\n",
            "1/1 [==============================] - 0s 92ms/step - loss: 0.0018 - val_loss: 0.3412\n",
            "Epoch 23/100\n",
            "1/1 [==============================] - 0s 90ms/step - loss: 0.0018 - val_loss: 0.3254\n",
            "Epoch 24/100\n",
            "1/1 [==============================] - 0s 86ms/step - loss: 0.0018 - val_loss: 0.3080\n",
            "Epoch 25/100\n",
            "1/1 [==============================] - 0s 86ms/step - loss: 0.0017 - val_loss: 0.2893\n",
            "Epoch 26/100\n",
            "1/1 [==============================] - 0s 98ms/step - loss: 0.0016 - val_loss: 0.2696\n",
            "Epoch 27/100\n",
            "1/1 [==============================] - 0s 96ms/step - loss: 0.0016 - val_loss: 0.2495\n",
            "Epoch 28/100\n",
            "1/1 [==============================] - 0s 90ms/step - loss: 0.0016 - val_loss: 0.2295\n",
            "Epoch 29/100\n",
            "1/1 [==============================] - 0s 81ms/step - loss: 0.0015 - val_loss: 0.2099\n",
            "Epoch 30/100\n",
            "1/1 [==============================] - 0s 92ms/step - loss: 0.0015 - val_loss: 0.1911\n",
            "Epoch 31/100\n",
            "1/1 [==============================] - 0s 103ms/step - loss: 0.0015 - val_loss: 0.1734\n",
            "Epoch 32/100\n",
            "1/1 [==============================] - 0s 94ms/step - loss: 0.0015 - val_loss: 0.1569\n",
            "Epoch 33/100\n",
            "1/1 [==============================] - 0s 107ms/step - loss: 0.0014 - val_loss: 0.1414\n",
            "Epoch 34/100\n",
            "1/1 [==============================] - 0s 110ms/step - loss: 0.0014 - val_loss: 0.1266\n",
            "Epoch 35/100\n",
            "1/1 [==============================] - 0s 94ms/step - loss: 0.0013 - val_loss: 0.1124\n",
            "Epoch 36/100\n",
            "1/1 [==============================] - 0s 105ms/step - loss: 0.0012 - val_loss: 0.0982\n",
            "Epoch 37/100\n",
            "1/1 [==============================] - 0s 103ms/step - loss: 0.0012 - val_loss: 0.0841\n",
            "Epoch 38/100\n",
            "1/1 [==============================] - 0s 98ms/step - loss: 0.0011 - val_loss: 0.0698\n",
            "Epoch 39/100\n",
            "1/1 [==============================] - 0s 96ms/step - loss: 0.0011 - val_loss: 0.0557\n",
            "Epoch 40/100\n",
            "1/1 [==============================] - 0s 90ms/step - loss: 0.0011 - val_loss: 0.0421\n",
            "Epoch 41/100\n",
            "1/1 [==============================] - 0s 84ms/step - loss: 0.0010 - val_loss: 0.0297\n",
            "Epoch 42/100\n",
            "1/1 [==============================] - 0s 95ms/step - loss: 9.4137e-04 - val_loss: 0.0189\n",
            "Epoch 43/100\n",
            "1/1 [==============================] - 0s 91ms/step - loss: 8.7198e-04 - val_loss: 0.0103\n",
            "Epoch 44/100\n",
            "1/1 [==============================] - 0s 88ms/step - loss: 8.0770e-04 - val_loss: 0.0043\n",
            "Epoch 45/100\n",
            "1/1 [==============================] - 0s 98ms/step - loss: 7.5205e-04 - val_loss: 9.4423e-04\n",
            "Epoch 46/100\n",
            "1/1 [==============================] - 0s 92ms/step - loss: 6.9863e-04 - val_loss: 2.5344e-04\n",
            "Epoch 47/100\n",
            "1/1 [==============================] - 0s 107ms/step - loss: 6.3691e-04 - val_loss: 0.0020\n",
            "Epoch 48/100\n",
            "1/1 [==============================] - 0s 94ms/step - loss: 5.6491e-04 - val_loss: 0.0060\n",
            "Epoch 49/100\n",
            "1/1 [==============================] - 0s 98ms/step - loss: 4.9336e-04 - val_loss: 0.0122\n",
            "Epoch 50/100\n",
            "1/1 [==============================] - 0s 87ms/step - loss: 4.3374e-04 - val_loss: 0.0208\n",
            "Epoch 51/100\n",
            "1/1 [==============================] - 0s 103ms/step - loss: 3.8173e-04 - val_loss: 0.0317\n",
            "Epoch 52/100\n",
            "1/1 [==============================] - 0s 97ms/step - loss: 3.2241e-04 - val_loss: 0.0449\n",
            "Epoch 53/100\n",
            "1/1 [==============================] - 0s 90ms/step - loss: 2.5788e-04 - val_loss: 0.0600\n",
            "Epoch 54/100\n",
            "1/1 [==============================] - 0s 91ms/step - loss: 2.0788e-04 - val_loss: 0.0763\n",
            "Epoch 55/100\n",
            "1/1 [==============================] - 0s 89ms/step - loss: 1.7229e-04 - val_loss: 0.0931\n",
            "Epoch 56/100\n",
            "1/1 [==============================] - 0s 94ms/step - loss: 1.3073e-04 - val_loss: 0.1102\n",
            "Epoch 57/100\n",
            "1/1 [==============================] - 0s 90ms/step - loss: 9.4899e-05 - val_loss: 0.1277\n",
            "Epoch 58/100\n",
            "1/1 [==============================] - 0s 86ms/step - loss: 8.3169e-05 - val_loss: 0.1457\n",
            "Epoch 59/100\n",
            "1/1 [==============================] - 0s 86ms/step - loss: 6.9666e-05 - val_loss: 0.1635\n",
            "Epoch 60/100\n",
            "1/1 [==============================] - 0s 86ms/step - loss: 6.1690e-05 - val_loss: 0.1799\n",
            "Epoch 61/100\n",
            "1/1 [==============================] - 0s 90ms/step - loss: 7.5889e-05 - val_loss: 0.1936\n",
            "Epoch 62/100\n",
            "1/1 [==============================] - 0s 90ms/step - loss: 7.9725e-05 - val_loss: 0.2046\n",
            "Epoch 63/100\n",
            "1/1 [==============================] - 0s 95ms/step - loss: 9.7362e-05 - val_loss: 0.2135\n",
            "Epoch 64/100\n",
            "1/1 [==============================] - 0s 104ms/step - loss: 1.1185e-04 - val_loss: 0.2200\n",
            "Epoch 65/100\n",
            "1/1 [==============================] - 0s 88ms/step - loss: 1.1955e-04 - val_loss: 0.2229\n",
            "Epoch 66/100\n",
            "1/1 [==============================] - 0s 88ms/step - loss: 1.3146e-04 - val_loss: 0.2219\n",
            "Epoch 67/100\n",
            "1/1 [==============================] - 0s 108ms/step - loss: 1.2674e-04 - val_loss: 0.2182\n",
            "Epoch 68/100\n",
            "1/1 [==============================] - 0s 93ms/step - loss: 1.2797e-04 - val_loss: 0.2130\n",
            "Epoch 69/100\n",
            "1/1 [==============================] - 0s 91ms/step - loss: 1.1624e-04 - val_loss: 0.2062\n",
            "Epoch 70/100\n",
            "1/1 [==============================] - 0s 96ms/step - loss: 1.0760e-04 - val_loss: 0.1976\n",
            "Epoch 71/100\n",
            "1/1 [==============================] - 0s 111ms/step - loss: 9.6818e-05 - val_loss: 0.1878\n",
            "Epoch 72/100\n",
            "1/1 [==============================] - 0s 86ms/step - loss: 8.4351e-05 - val_loss: 0.1777\n",
            "Epoch 73/100\n",
            "1/1 [==============================] - 0s 89ms/step - loss: 7.7990e-05 - val_loss: 0.1682\n",
            "Epoch 74/100\n",
            "1/1 [==============================] - 0s 102ms/step - loss: 6.8964e-05 - val_loss: 0.1591\n",
            "Epoch 75/100\n",
            "1/1 [==============================] - 0s 86ms/step - loss: 6.4791e-05 - val_loss: 0.1503\n",
            "Epoch 76/100\n",
            "1/1 [==============================] - 0s 94ms/step - loss: 6.2907e-05 - val_loss: 0.1418\n",
            "Epoch 77/100\n",
            "1/1 [==============================] - 0s 88ms/step - loss: 6.0466e-05 - val_loss: 0.1342\n",
            "Epoch 78/100\n",
            "1/1 [==============================] - 0s 89ms/step - loss: 6.1809e-05 - val_loss: 0.1278\n",
            "Epoch 79/100\n",
            "1/1 [==============================] - 0s 96ms/step - loss: 6.3103e-05 - val_loss: 0.1225\n",
            "Epoch 80/100\n",
            "1/1 [==============================] - 0s 94ms/step - loss: 6.3864e-05 - val_loss: 0.1181\n",
            "Epoch 81/100\n",
            "1/1 [==============================] - 0s 95ms/step - loss: 6.6418e-05 - val_loss: 0.1143\n",
            "Epoch 82/100\n",
            "1/1 [==============================] - 0s 104ms/step - loss: 6.7996e-05 - val_loss: 0.1113\n",
            "Epoch 83/100\n",
            "1/1 [==============================] - 0s 97ms/step - loss: 6.8668e-05 - val_loss: 0.1090\n",
            "Epoch 84/100\n",
            "1/1 [==============================] - 0s 83ms/step - loss: 7.0035e-05 - val_loss: 0.1077\n",
            "Epoch 85/100\n",
            "1/1 [==============================] - 0s 115ms/step - loss: 7.0290e-05 - val_loss: 0.1072\n",
            "Epoch 86/100\n",
            "1/1 [==============================] - 0s 79ms/step - loss: 6.9652e-05 - val_loss: 0.1072\n",
            "Epoch 87/100\n",
            "1/1 [==============================] - 0s 90ms/step - loss: 6.9427e-05 - val_loss: 0.1076\n",
            "Epoch 88/100\n",
            "1/1 [==============================] - 0s 91ms/step - loss: 6.8390e-05 - val_loss: 0.1084\n",
            "Epoch 89/100\n",
            "1/1 [==============================] - 0s 83ms/step - loss: 6.6843e-05 - val_loss: 0.1095\n",
            "Epoch 90/100\n",
            "1/1 [==============================] - 0s 82ms/step - loss: 6.5817e-05 - val_loss: 0.1111\n",
            "Epoch 91/100\n",
            "1/1 [==============================] - 0s 78ms/step - loss: 6.4362e-05 - val_loss: 0.1129\n",
            "Epoch 92/100\n",
            "1/1 [==============================] - 0s 77ms/step - loss: 6.2885e-05 - val_loss: 0.1149\n",
            "Epoch 93/100\n",
            "1/1 [==============================] - 0s 82ms/step - loss: 6.2047e-05 - val_loss: 0.1167\n",
            "Epoch 94/100\n",
            "1/1 [==============================] - 0s 81ms/step - loss: 6.1013e-05 - val_loss: 0.1184\n",
            "Epoch 95/100\n",
            "1/1 [==============================] - 0s 84ms/step - loss: 6.0327e-05 - val_loss: 0.1201\n",
            "Epoch 96/100\n",
            "1/1 [==============================] - 0s 90ms/step - loss: 6.0142e-05 - val_loss: 0.1218\n",
            "Epoch 97/100\n",
            "1/1 [==============================] - 0s 77ms/step - loss: 5.9811e-05 - val_loss: 0.1232\n",
            "Epoch 98/100\n",
            "1/1 [==============================] - 0s 80ms/step - loss: 5.9929e-05 - val_loss: 0.1242\n",
            "Epoch 99/100\n",
            "1/1 [==============================] - 0s 81ms/step - loss: 6.0153e-05 - val_loss: 0.1248\n",
            "Epoch 100/100\n",
            "1/1 [==============================] - 0s 80ms/step - loss: 6.0259e-05 - val_loss: 0.1251\n"
          ]
        },
        {
          "output_type": "execute_result",
          "data": {
            "text/plain": [
              "<keras.callbacks.History at 0x7f687bc84290>"
            ]
          },
          "metadata": {},
          "execution_count": 728
        }
      ]
    },
    {
      "cell_type": "code",
      "source": [
        "train_predict=model.predict(X_train)\n",
        "test_predict=model.predict(X_test)"
      ],
      "metadata": {
        "id": "MxzX383YbPph"
      },
      "execution_count": null,
      "outputs": []
    },
    {
      "cell_type": "code",
      "source": [
        "train_predict=scaler.inverse_transform(train_predict)\n",
        "test_predict=scaler.inverse_transform(test_predict)"
      ],
      "metadata": {
        "id": "jFJTNHBobZw_"
      },
      "execution_count": null,
      "outputs": []
    },
    {
      "cell_type": "code",
      "source": [
        "look_back=36\n",
        "trainPredictPlot = np.empty_like(full1)\n",
        "trainPredictPlot[:, :] = np.nan\n",
        "trainPredictPlot[look_back:len(train_predict)+look_back, :] = train_predict\n",
        "# shift test predictions for plotting\n",
        "testPredictPlot = np.empty_like(full1)\n",
        "testPredictPlot[:, :] = np.nan\n",
        "testPredictPlot[len(train_predict)+(look_back*2)+1:len(full1)-1, :] = test_predict\n",
        "# plot baseline and predictions\n",
        "plt.plot(scaler.inverse_transform(full1))\n",
        "plt.plot(trainPredictPlot)\n",
        "plt.plot(testPredictPlot)\n",
        "plt.show()"
      ],
      "metadata": {
        "id": "2RtVKdGCbxCi",
        "outputId": "55f8b269-b3a5-4a09-b061-1cec3ec71cfb",
        "colab": {
          "base_uri": "https://localhost:8080/",
          "height": 265
        }
      },
      "execution_count": null,
      "outputs": [
        {
          "output_type": "display_data",
          "data": {
            "image/png": "[encoded data removed]",
            "text/plain": [
              "<Figure size 432x288 with 1 Axes>"
            ]
          },
          "metadata": {}
        }
      ]
    },
    {
      "cell_type": "code",
      "source": [
        "len(test_data)"
      ],
      "metadata": {
        "id": "lBaXV7nnbxG1",
        "outputId": "4d6f2e65-22cb-43a6-f3f0-7acca6df4ac9",
        "colab": {
          "base_uri": "https://localhost:8080/"
        }
      },
      "execution_count": null,
      "outputs": [
        {
          "output_type": "execute_result",
          "data": {
            "text/plain": [
              "43"
            ]
          },
          "metadata": {},
          "execution_count": 734
        }
      ]
    },
    {
      "cell_type": "code",
      "source": [
        "x_input=test_data[6:].reshape(1,-1)\n",
        "x_input.shape"
      ],
      "metadata": {
        "id": "kL0DdlT3bxMD",
        "outputId": "d6663c2d-dca7-446a-e1af-ceb58f70d8eb",
        "colab": {
          "base_uri": "https://localhost:8080/"
        }
      },
      "execution_count": null,
      "outputs": [
        {
          "output_type": "execute_result",
          "data": {
            "text/plain": [
              "(1, 37)"
            ]
          },
          "metadata": {},
          "execution_count": 735
        }
      ]
    },
    {
      "cell_type": "code",
      "source": [
        "temp_input=list(x_input)\n",
        "temp_input=temp_input[0].tolist()"
      ],
      "metadata": {
        "id": "8hcWFbBOMgKJ"
      },
      "execution_count": null,
      "outputs": []
    },
    {
      "cell_type": "code",
      "source": [
        "temp_input"
      ],
      "metadata": {
        "colab": {
          "base_uri": "https://localhost:8080/"
        },
        "id": "-pDpA7rRMhQ8",
        "outputId": "efa385ed-c2d9-4846-aa5b-95bf8c1cb8ef"
      },
      "execution_count": null,
      "outputs": [
        {
          "output_type": "execute_result",
          "data": {
            "text/plain": [
              "[0.33010322308826623,\n",
              " 0.361280808931957,\n",
              " 0.3680219085738361,\n",
              " 0.39266905413945646,\n",
              " 0.42005477143459025,\n",
              " 0.4440699389087845,\n",
              " 0.4556562039182641,\n",
              " 0.4946281862228776,\n",
              " 0.5060037918685486,\n",
              " 0.5378133558036655,\n",
              " 0.5662523699178429,\n",
              " 0.5719401727406783,\n",
              " 0.6252369917842848,\n",
              " 0.6585211712660628,\n",
              " 0.6663155677269855,\n",
              " 0.6661049083631768,\n",
              " 0.6915946913840321,\n",
              " 0.7063408468506426,\n",
              " 0.719612386770592,\n",
              " 0.7644828312618496,\n",
              " 0.7670107436275543,\n",
              " 0.7663787655361282,\n",
              " 0.8076680008426375,\n",
              " 0.8125131662102381,\n",
              " 0.8365283336844324,\n",
              " 0.8554876764272172,\n",
              " 0.8757109753528545,\n",
              " 0.8849799873604381,\n",
              " 0.9052032862860755,\n",
              " 0.9151042763850853,\n",
              " 0.9351169159469138,\n",
              " 0.9734569201601011,\n",
              " 0.9928375816305035,\n",
              " 0.9698757109753529,\n",
              " 1.0,\n",
              " 0.9890457130819466,\n",
              " 0.9913629660838424]"
            ]
          },
          "metadata": {},
          "execution_count": 737
        }
      ]
    },
    {
      "cell_type": "code",
      "source": [
        "lst_output=[]\n",
        "n_steps=36\n",
        "i=0\n",
        "while(i<30):\n",
        "    \n",
        "    if(len(temp_input)>36):\n",
        "        #print(temp_input)\n",
        "        x_input=np.array(temp_input[1:])\n",
        "        print(\"{} day input {}\".format(i,x_input))\n",
        "        x_input=x_input.reshape(1,-1)\n",
        "        x_input = x_input.reshape((1, n_steps, 1))\n",
        "        #print(x_input)\n",
        "        yhat = model.predict(x_input, verbose=0)\n",
        "        print(\"{} day output {}\".format(i,yhat))\n",
        "        temp_input.extend(yhat[0].tolist())\n",
        "        temp_input=temp_input[1:]\n",
        "        #print(temp_input)\n",
        "        lst_output.extend(yhat.tolist())\n",
        "        i=i+1\n",
        "    else:\n",
        "        x_input = x_input.reshape((1, n_steps,1))\n",
        "        yhat = model.predict(x_input, verbose=0)\n",
        "        print(yhat[0])\n",
        "        temp_input.extend(yhat[0].tolist())\n",
        "        print(len(temp_input))\n",
        "        lst_output.extend(yhat.tolist())\n",
        "        i=i+1\n",
        "    \n",
        "\n",
        "print(lst_output)"
      ],
      "metadata": {
        "colab": {
          "base_uri": "https://localhost:8080/"
        },
        "id": "UcxeL6T4MlZy",
        "outputId": "8581c303-e373-47f2-d15a-ca31da48e4b5"
      },
      "execution_count": null,
      "outputs": [
        {
          "output_type": "stream",
          "name": "stdout",
          "text": [
            "0 day input [0.36128081 0.36802191 0.39266905 0.42005477 0.44406994 0.4556562\n",
            " 0.49462819 0.50600379 0.53781336 0.56625237 0.57194017 0.62523699\n",
            " 0.65852117 0.66631557 0.66610491 0.69159469 0.70634085 0.71961239\n",
            " 0.76448283 0.76701074 0.76637877 0.807668   0.81251317 0.83652833\n",
            " 0.85548768 0.87571098 0.88497999 0.90520329 0.91510428 0.93511692\n",
            " 0.97345692 0.99283758 0.96987571 1.         0.98904571 0.99136297]\n",
            "0 day output [[1.34608]]\n",
            "1 day input [0.36802191 0.39266905 0.42005477 0.44406994 0.4556562  0.49462819\n",
            " 0.50600379 0.53781336 0.56625237 0.57194017 0.62523699 0.65852117\n",
            " 0.66631557 0.66610491 0.69159469 0.70634085 0.71961239 0.76448283\n",
            " 0.76701074 0.76637877 0.807668   0.81251317 0.83652833 0.85548768\n",
            " 0.87571098 0.88497999 0.90520329 0.91510428 0.93511692 0.97345692\n",
            " 0.99283758 0.96987571 1.         0.98904571 0.99136297 1.34607995]\n",
            "1 day output [[1.3495809]]\n",
            "2 day input [0.39266905 0.42005477 0.44406994 0.4556562  0.49462819 0.50600379\n",
            " 0.53781336 0.56625237 0.57194017 0.62523699 0.65852117 0.66631557\n",
            " 0.66610491 0.69159469 0.70634085 0.71961239 0.76448283 0.76701074\n",
            " 0.76637877 0.807668   0.81251317 0.83652833 0.85548768 0.87571098\n",
            " 0.88497999 0.90520329 0.91510428 0.93511692 0.97345692 0.99283758\n",
            " 0.96987571 1.         0.98904571 0.99136297 1.34607995 1.34958088]\n",
            "2 day output [[1.3531399]]\n",
            "3 day input [0.42005477 0.44406994 0.4556562  0.49462819 0.50600379 0.53781336\n",
            " 0.56625237 0.57194017 0.62523699 0.65852117 0.66631557 0.66610491\n",
            " 0.69159469 0.70634085 0.71961239 0.76448283 0.76701074 0.76637877\n",
            " 0.807668   0.81251317 0.83652833 0.85548768 0.87571098 0.88497999\n",
            " 0.90520329 0.91510428 0.93511692 0.97345692 0.99283758 0.96987571\n",
            " 1.         0.98904571 0.99136297 1.34607995 1.34958088 1.35313988]\n",
            "3 day output [[1.356558]]\n",
            "4 day input [0.44406994 0.4556562  0.49462819 0.50600379 0.53781336 0.56625237\n",
            " 0.57194017 0.62523699 0.65852117 0.66631557 0.66610491 0.69159469\n",
            " 0.70634085 0.71961239 0.76448283 0.76701074 0.76637877 0.807668\n",
            " 0.81251317 0.83652833 0.85548768 0.87571098 0.88497999 0.90520329\n",
            " 0.91510428 0.93511692 0.97345692 0.99283758 0.96987571 1.\n",
            " 0.98904571 0.99136297 1.34607995 1.34958088 1.35313988 1.35655797]\n",
            "4 day output [[1.3597336]]\n",
            "5 day input [0.4556562  0.49462819 0.50600379 0.53781336 0.56625237 0.57194017\n",
            " 0.62523699 0.65852117 0.66631557 0.66610491 0.69159469 0.70634085\n",
            " 0.71961239 0.76448283 0.76701074 0.76637877 0.807668   0.81251317\n",
            " 0.83652833 0.85548768 0.87571098 0.88497999 0.90520329 0.91510428\n",
            " 0.93511692 0.97345692 0.99283758 0.96987571 1.         0.98904571\n",
            " 0.99136297 1.34607995 1.34958088 1.35313988 1.35655797 1.35973358]\n",
            "5 day output [[1.3626395]]\n",
            "6 day input [0.49462819 0.50600379 0.53781336 0.56625237 0.57194017 0.62523699\n",
            " 0.65852117 0.66631557 0.66610491 0.69159469 0.70634085 0.71961239\n",
            " 0.76448283 0.76701074 0.76637877 0.807668   0.81251317 0.83652833\n",
            " 0.85548768 0.87571098 0.88497999 0.90520329 0.91510428 0.93511692\n",
            " 0.97345692 0.99283758 0.96987571 1.         0.98904571 0.99136297\n",
            " 1.34607995 1.34958088 1.35313988 1.35655797 1.35973358 1.36263955]\n",
            "6 day output [[1.3652738]]\n",
            "7 day input [0.50600379 0.53781336 0.56625237 0.57194017 0.62523699 0.65852117\n",
            " 0.66631557 0.66610491 0.69159469 0.70634085 0.71961239 0.76448283\n",
            " 0.76701074 0.76637877 0.807668   0.81251317 0.83652833 0.85548768\n",
            " 0.87571098 0.88497999 0.90520329 0.91510428 0.93511692 0.97345692\n",
            " 0.99283758 0.96987571 1.         0.98904571 0.99136297 1.34607995\n",
            " 1.34958088 1.35313988 1.35655797 1.35973358 1.36263955 1.36527383]\n",
            "7 day output [[1.3676236]]\n",
            "8 day input [0.53781336 0.56625237 0.57194017 0.62523699 0.65852117 0.66631557\n",
            " 0.66610491 0.69159469 0.70634085 0.71961239 0.76448283 0.76701074\n",
            " 0.76637877 0.807668   0.81251317 0.83652833 0.85548768 0.87571098\n",
            " 0.88497999 0.90520329 0.91510428 0.93511692 0.97345692 0.99283758\n",
            " 0.96987571 1.         0.98904571 0.99136297 1.34607995 1.34958088\n",
            " 1.35313988 1.35655797 1.35973358 1.36263955 1.36527383 1.36762357]\n",
            "8 day output [[1.3697197]]\n",
            "9 day input [0.56625237 0.57194017 0.62523699 0.65852117 0.66631557 0.66610491\n",
            " 0.69159469 0.70634085 0.71961239 0.76448283 0.76701074 0.76637877\n",
            " 0.807668   0.81251317 0.83652833 0.85548768 0.87571098 0.88497999\n",
            " 0.90520329 0.91510428 0.93511692 0.97345692 0.99283758 0.96987571\n",
            " 1.         0.98904571 0.99136297 1.34607995 1.34958088 1.35313988\n",
            " 1.35655797 1.35973358 1.36263955 1.36527383 1.36762357 1.36971974]\n",
            "9 day output [[1.37157]]\n",
            "10 day input [0.57194017 0.62523699 0.65852117 0.66631557 0.66610491 0.69159469\n",
            " 0.70634085 0.71961239 0.76448283 0.76701074 0.76637877 0.807668\n",
            " 0.81251317 0.83652833 0.85548768 0.87571098 0.88497999 0.90520329\n",
            " 0.91510428 0.93511692 0.97345692 0.99283758 0.96987571 1.\n",
            " 0.98904571 0.99136297 1.34607995 1.34958088 1.35313988 1.35655797\n",
            " 1.35973358 1.36263955 1.36527383 1.36762357 1.36971974 1.37156999]\n",
            "10 day output [[1.3731987]]\n",
            "11 day input [0.62523699 0.65852117 0.66631557 0.66610491 0.69159469 0.70634085\n",
            " 0.71961239 0.76448283 0.76701074 0.76637877 0.807668   0.81251317\n",
            " 0.83652833 0.85548768 0.87571098 0.88497999 0.90520329 0.91510428\n",
            " 0.93511692 0.97345692 0.99283758 0.96987571 1.         0.98904571\n",
            " 0.99136297 1.34607995 1.34958088 1.35313988 1.35655797 1.35973358\n",
            " 1.36263955 1.36527383 1.36762357 1.36971974 1.37156999 1.37319875]\n",
            "11 day output [[1.3746389]]\n",
            "12 day input [0.65852117 0.66631557 0.66610491 0.69159469 0.70634085 0.71961239\n",
            " 0.76448283 0.76701074 0.76637877 0.807668   0.81251317 0.83652833\n",
            " 0.85548768 0.87571098 0.88497999 0.90520329 0.91510428 0.93511692\n",
            " 0.97345692 0.99283758 0.96987571 1.         0.98904571 0.99136297\n",
            " 1.34607995 1.34958088 1.35313988 1.35655797 1.35973358 1.36263955\n",
            " 1.36527383 1.36762357 1.36971974 1.37156999 1.37319875 1.37463892]\n",
            "12 day output [[1.37589]]\n",
            "13 day input [0.66631557 0.66610491 0.69159469 0.70634085 0.71961239 0.76448283\n",
            " 0.76701074 0.76637877 0.807668   0.81251317 0.83652833 0.85548768\n",
            " 0.87571098 0.88497999 0.90520329 0.91510428 0.93511692 0.97345692\n",
            " 0.99283758 0.96987571 1.         0.98904571 0.99136297 1.34607995\n",
            " 1.34958088 1.35313988 1.35655797 1.35973358 1.36263955 1.36527383\n",
            " 1.36762357 1.36971974 1.37156999 1.37319875 1.37463892 1.37589002]\n",
            "13 day output [[1.3769834]]\n",
            "14 day input [0.66610491 0.69159469 0.70634085 0.71961239 0.76448283 0.76701074\n",
            " 0.76637877 0.807668   0.81251317 0.83652833 0.85548768 0.87571098\n",
            " 0.88497999 0.90520329 0.91510428 0.93511692 0.97345692 0.99283758\n",
            " 0.96987571 1.         0.98904571 0.99136297 1.34607995 1.34958088\n",
            " 1.35313988 1.35655797 1.35973358 1.36263955 1.36527383 1.36762357\n",
            " 1.36971974 1.37156999 1.37319875 1.37463892 1.37589002 1.3769834 ]\n",
            "14 day output [[1.3779477]]\n",
            "15 day input [0.69159469 0.70634085 0.71961239 0.76448283 0.76701074 0.76637877\n",
            " 0.807668   0.81251317 0.83652833 0.85548768 0.87571098 0.88497999\n",
            " 0.90520329 0.91510428 0.93511692 0.97345692 0.99283758 0.96987571\n",
            " 1.         0.98904571 0.99136297 1.34607995 1.34958088 1.35313988\n",
            " 1.35655797 1.35973358 1.36263955 1.36527383 1.36762357 1.36971974\n",
            " 1.37156999 1.37319875 1.37463892 1.37589002 1.3769834  1.37794769]\n",
            "15 day output [[1.3788009]]\n",
            "16 day input [0.70634085 0.71961239 0.76448283 0.76701074 0.76637877 0.807668\n",
            " 0.81251317 0.83652833 0.85548768 0.87571098 0.88497999 0.90520329\n",
            " 0.91510428 0.93511692 0.97345692 0.99283758 0.96987571 1.\n",
            " 0.98904571 0.99136297 1.34607995 1.34958088 1.35313988 1.35655797\n",
            " 1.35973358 1.36263955 1.36527383 1.36762357 1.36971974 1.37156999\n",
            " 1.37319875 1.37463892 1.37589002 1.3769834  1.37794769 1.37880087]\n",
            "16 day output [[1.3795469]]\n",
            "17 day input [0.71961239 0.76448283 0.76701074 0.76637877 0.807668   0.81251317\n",
            " 0.83652833 0.85548768 0.87571098 0.88497999 0.90520329 0.91510428\n",
            " 0.93511692 0.97345692 0.99283758 0.96987571 1.         0.98904571\n",
            " 0.99136297 1.34607995 1.34958088 1.35313988 1.35655797 1.35973358\n",
            " 1.36263955 1.36527383 1.36762357 1.36971974 1.37156999 1.37319875\n",
            " 1.37463892 1.37589002 1.3769834  1.37794769 1.37880087 1.37954688]\n",
            "17 day output [[1.3802028]]\n",
            "18 day input [0.76448283 0.76701074 0.76637877 0.807668   0.81251317 0.83652833\n",
            " 0.85548768 0.87571098 0.88497999 0.90520329 0.91510428 0.93511692\n",
            " 0.97345692 0.99283758 0.96987571 1.         0.98904571 0.99136297\n",
            " 1.34607995 1.34958088 1.35313988 1.35655797 1.35973358 1.36263955\n",
            " 1.36527383 1.36762357 1.36971974 1.37156999 1.37319875 1.37463892\n",
            " 1.37589002 1.3769834  1.37794769 1.37880087 1.37954688 1.38020277]\n",
            "18 day output [[1.38078]]\n",
            "19 day input [0.76701074 0.76637877 0.807668   0.81251317 0.83652833 0.85548768\n",
            " 0.87571098 0.88497999 0.90520329 0.91510428 0.93511692 0.97345692\n",
            " 0.99283758 0.96987571 1.         0.98904571 0.99136297 1.34607995\n",
            " 1.34958088 1.35313988 1.35655797 1.35973358 1.36263955 1.36527383\n",
            " 1.36762357 1.36971974 1.37156999 1.37319875 1.37463892 1.37589002\n",
            " 1.3769834  1.37794769 1.37880087 1.37954688 1.38020277 1.38077998]\n",
            "19 day output [[1.381278]]\n",
            "20 day input [0.76637877 0.807668   0.81251317 0.83652833 0.85548768 0.87571098\n",
            " 0.88497999 0.90520329 0.91510428 0.93511692 0.97345692 0.99283758\n",
            " 0.96987571 1.         0.98904571 0.99136297 1.34607995 1.34958088\n",
            " 1.35313988 1.35655797 1.35973358 1.36263955 1.36527383 1.36762357\n",
            " 1.36971974 1.37156999 1.37319875 1.37463892 1.37589002 1.3769834\n",
            " 1.37794769 1.37880087 1.37954688 1.38020277 1.38077998 1.38127804]\n",
            "20 day output [[1.3817204]]\n",
            "21 day input [0.807668   0.81251317 0.83652833 0.85548768 0.87571098 0.88497999\n",
            " 0.90520329 0.91510428 0.93511692 0.97345692 0.99283758 0.96987571\n",
            " 1.         0.98904571 0.99136297 1.34607995 1.34958088 1.35313988\n",
            " 1.35655797 1.35973358 1.36263955 1.36527383 1.36762357 1.36971974\n",
            " 1.37156999 1.37319875 1.37463892 1.37589002 1.3769834  1.37794769\n",
            " 1.37880087 1.37954688 1.38020277 1.38077998 1.38127804 1.38172042]\n",
            "21 day output [[1.3821142]]\n",
            "22 day input [0.81251317 0.83652833 0.85548768 0.87571098 0.88497999 0.90520329\n",
            " 0.91510428 0.93511692 0.97345692 0.99283758 0.96987571 1.\n",
            " 0.98904571 0.99136297 1.34607995 1.34958088 1.35313988 1.35655797\n",
            " 1.35973358 1.36263955 1.36527383 1.36762357 1.36971974 1.37156999\n",
            " 1.37319875 1.37463892 1.37589002 1.3769834  1.37794769 1.37880087\n",
            " 1.37954688 1.38020277 1.38077998 1.38127804 1.38172042 1.38211417]\n",
            "22 day output [[1.3824537]]\n",
            "23 day input [0.83652833 0.85548768 0.87571098 0.88497999 0.90520329 0.91510428\n",
            " 0.93511692 0.97345692 0.99283758 0.96987571 1.         0.98904571\n",
            " 0.99136297 1.34607995 1.34958088 1.35313988 1.35655797 1.35973358\n",
            " 1.36263955 1.36527383 1.36762357 1.36971974 1.37156999 1.37319875\n",
            " 1.37463892 1.37589002 1.3769834  1.37794769 1.37880087 1.37954688\n",
            " 1.38020277 1.38077998 1.38127804 1.38172042 1.38211417 1.38245368]\n",
            "23 day output [[1.3827555]]\n",
            "24 day input [0.85548768 0.87571098 0.88497999 0.90520329 0.91510428 0.93511692\n",
            " 0.97345692 0.99283758 0.96987571 1.         0.98904571 0.99136297\n",
            " 1.34607995 1.34958088 1.35313988 1.35655797 1.35973358 1.36263955\n",
            " 1.36527383 1.36762357 1.36971974 1.37156999 1.37319875 1.37463892\n",
            " 1.37589002 1.3769834  1.37794769 1.37880087 1.37954688 1.38020277\n",
            " 1.38077998 1.38127804 1.38172042 1.38211417 1.38245368 1.38275552]\n",
            "24 day output [[1.3830193]]\n",
            "25 day input [0.87571098 0.88497999 0.90520329 0.91510428 0.93511692 0.97345692\n",
            " 0.99283758 0.96987571 1.         0.98904571 0.99136297 1.34607995\n",
            " 1.34958088 1.35313988 1.35655797 1.35973358 1.36263955 1.36527383\n",
            " 1.36762357 1.36971974 1.37156999 1.37319875 1.37463892 1.37589002\n",
            " 1.3769834  1.37794769 1.37880087 1.37954688 1.38020277 1.38077998\n",
            " 1.38127804 1.38172042 1.38211417 1.38245368 1.38275552 1.38301933]\n",
            "25 day output [[1.3832511]]\n",
            "26 day input [0.88497999 0.90520329 0.91510428 0.93511692 0.97345692 0.99283758\n",
            " 0.96987571 1.         0.98904571 0.99136297 1.34607995 1.34958088\n",
            " 1.35313988 1.35655797 1.35973358 1.36263955 1.36527383 1.36762357\n",
            " 1.36971974 1.37156999 1.37319875 1.37463892 1.37589002 1.3769834\n",
            " 1.37794769 1.37880087 1.37954688 1.38020277 1.38077998 1.38127804\n",
            " 1.38172042 1.38211417 1.38245368 1.38275552 1.38301933 1.38325107]\n",
            "26 day output [[1.3834544]]\n",
            "27 day input [0.90520329 0.91510428 0.93511692 0.97345692 0.99283758 0.96987571\n",
            " 1.         0.98904571 0.99136297 1.34607995 1.34958088 1.35313988\n",
            " 1.35655797 1.35973358 1.36263955 1.36527383 1.36762357 1.36971974\n",
            " 1.37156999 1.37319875 1.37463892 1.37589002 1.3769834  1.37794769\n",
            " 1.37880087 1.37954688 1.38020277 1.38077998 1.38127804 1.38172042\n",
            " 1.38211417 1.38245368 1.38275552 1.38301933 1.38325107 1.38345444]\n",
            "27 day output [[1.383636]]\n",
            "28 day input [0.91510428 0.93511692 0.97345692 0.99283758 0.96987571 1.\n",
            " 0.98904571 0.99136297 1.34607995 1.34958088 1.35313988 1.35655797\n",
            " 1.35973358 1.36263955 1.36527383 1.36762357 1.36971974 1.37156999\n",
            " 1.37319875 1.37463892 1.37589002 1.3769834  1.37794769 1.37880087\n",
            " 1.37954688 1.38020277 1.38077998 1.38127804 1.38172042 1.38211417\n",
            " 1.38245368 1.38275552 1.38301933 1.38325107 1.38345444 1.383636  ]\n",
            "28 day output [[1.3837954]]\n",
            "29 day input [0.93511692 0.97345692 0.99283758 0.96987571 1.         0.98904571\n",
            " 0.99136297 1.34607995 1.34958088 1.35313988 1.35655797 1.35973358\n",
            " 1.36263955 1.36527383 1.36762357 1.36971974 1.37156999 1.37319875\n",
            " 1.37463892 1.37589002 1.3769834  1.37794769 1.37880087 1.37954688\n",
            " 1.38020277 1.38077998 1.38127804 1.38172042 1.38211417 1.38245368\n",
            " 1.38275552 1.38301933 1.38325107 1.38345444 1.383636   1.38379538]\n",
            "29 day output [[1.3839378]]\n",
            "[[1.34607994556427], [1.3495808839797974], [1.353139877319336], [1.3565579652786255], [1.3597335815429688], [1.3626395463943481], [1.3652738332748413], [1.3676235675811768], [1.3697197437286377], [1.3715699911117554], [1.3731987476348877], [1.3746389150619507], [1.3758900165557861], [1.376983404159546], [1.3779476881027222], [1.378800868988037], [1.379546880722046], [1.3802027702331543], [1.3807799816131592], [1.3812780380249023], [1.3817204236984253], [1.3821141719818115], [1.3824536800384521], [1.3827555179595947], [1.3830193281173706], [1.3832510709762573], [1.383454442024231], [1.3836359977722168], [1.3837953805923462], [1.3839378356933594]]\n"
          ]
        }
      ]
    },
    {
      "cell_type": "code",
      "source": [
        "day_new=np.arange(1,50)\n",
        "day_pred=np.arange(50,80)"
      ],
      "metadata": {
        "id": "xgN1r6RvM_S3"
      },
      "execution_count": null,
      "outputs": []
    },
    {
      "cell_type": "code",
      "source": [
        "len(full1)"
      ],
      "metadata": {
        "colab": {
          "base_uri": "https://localhost:8080/"
        },
        "id": "A7ekXsVFNH4w",
        "outputId": "240962ac-5ec7-4381-d6bd-2a125e303ddc"
      },
      "execution_count": null,
      "outputs": [
        {
          "output_type": "execute_result",
          "data": {
            "text/plain": [
              "122"
            ]
          },
          "metadata": {},
          "execution_count": 745
        }
      ]
    },
    {
      "cell_type": "code",
      "source": [
        "plt.plot(day_new,scaler.inverse_transform(full1[73:]))\n",
        "plt.plot(day_pred,scaler.inverse_transform(lst_output))"
      ],
      "metadata": {
        "colab": {
          "base_uri": "https://localhost:8080/",
          "height": 283
        },
        "id": "F_ckXeZYNMMY",
        "outputId": "4d9b220e-ec85-45ce-ee14-43cc885c4feb"
      },
      "execution_count": null,
      "outputs": [
        {
          "output_type": "execute_result",
          "data": {
            "text/plain": [
              "[<matplotlib.lines.Line2D at 0x7f688329de90>]"
            ]
          },
          "metadata": {},
          "execution_count": 754
        },
        {
          "output_type": "display_data",
          "data": {
            "image/png": "[encoded data removed]",
            "text/plain": [
              "<Figure size 432x288 with 1 Axes>"
            ]
          },
          "metadata": {}
        }
      ]
    },
    {
      "cell_type": "code",
      "source": [
        "full3=full1.tolist()\n",
        "full3.extend(lst_output)\n",
        "plt.plot(full3[:])"
      ],
      "metadata": {
        "colab": {
          "base_uri": "https://localhost:8080/",
          "height": 283
        },
        "id": "Wp4JSQQcNUXj",
        "outputId": "c4a2f671-4eba-4b43-9ec6-477651a0c2ac"
      },
      "execution_count": null,
      "outputs": [
        {
          "output_type": "execute_result",
          "data": {
            "text/plain": [
              "[<matplotlib.lines.Line2D at 0x7f68831115d0>]"
            ]
          },
          "metadata": {},
          "execution_count": 757
        },
        {
          "output_type": "display_data",
          "data": {
            "image/png": "[encoded data removed]",
            "text/plain": [
              "<Figure size 432x288 with 1 Axes>"
            ]
          },
          "metadata": {}
        }
      ]
    },
    {
      "cell_type": "code",
      "source": [
        "full3=scaler.inverse_transform(full3).tolist()\n",
        "plt.plot(full3)"
      ],
      "metadata": {
        "colab": {
          "base_uri": "https://localhost:8080/",
          "height": 283
        },
        "id": "m3oaHrkLNaMB",
        "outputId": "327c7d79-203c-4b5b-855d-81954d89a96b"
      },
      "execution_count": null,
      "outputs": [
        {
          "output_type": "execute_result",
          "data": {
            "text/plain": [
              "[<matplotlib.lines.Line2D at 0x7f688308b610>]"
            ]
          },
          "metadata": {},
          "execution_count": 758
        },
        {
          "output_type": "display_data",
          "data": {
            "image/png": "[encoded data removed]",
            "text/plain": [
              "<Figure size 432x288 with 1 Axes>"
            ]
          },
          "metadata": {}
        }
      ]
    }
  ]
}